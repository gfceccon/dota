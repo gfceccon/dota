{
 "cells": [
  {
   "cell_type": "markdown",
   "id": "4a0a751d",
   "metadata": {},
   "source": [
    "# Dota 2 Autoencoder and clustering analyzer"
   ]
  },
  {
   "cell_type": "markdown",
   "id": "921d3d31",
   "metadata": {},
   "source": [
    "## Paths and Variables"
   ]
  },
  {
   "cell_type": "code",
   "execution_count": null,
   "id": "500864f8",
   "metadata": {},
   "outputs": [],
   "source": [
    "from dota import Dota2\n",
    "from clustering import Dota2Clustering\n",
    "from model import Dota2Autoencoder\n",
    "import permutations\n",
    "import torch\n",
    "import numpy as np\n",
    "import polars as pl\n",
    "_patch = [55]\n",
    "# Patch 7.35, professional matches, 30-120 minutes\n",
    "dota = Dota2(_patch, ['professional'], (30, 120))\n",
    "dataset_path = \"./tmp/dota_7_33_pro_30_120.csv\"\n",
    "metadata_path = \"./tmp/dota_7_33_pro_30_120_metadata.json\"\n",
    "model_path = \"./tmp/dota_7_33_pro_30_120_model.h5\"\n",
    "loss_path = \"./tmp/dota_7_33_pro_30_120_losses.csv\"\n",
    "plot_path = \"./tmp/dota_7_33_pro_30_120_plot.png\"\n",
    "report_path = \"./tmp/dota_7_33_pro_30_120_report.txt\""
   ]
  },
  {
   "cell_type": "markdown",
   "id": "e9bafce8",
   "metadata": {},
   "source": [
    "## Load Dataset"
   ]
  },
  {
   "cell_type": "code",
   "execution_count": null,
   "id": "5fac8c8f",
   "metadata": {},
   "outputs": [],
   "source": [
    "dataset, _ = dota.load_or_prepare_dataset(dataset_path, metadata_path)\n",
    "train_df, val_df, test_df = dota.prepare_data_splits(dataset, 1.0)"
   ]
  },
  {
   "cell_type": "markdown",
   "id": "167857a2",
   "metadata": {},
   "source": [
    "# Autoencoder"
   ]
  },
  {
   "cell_type": "markdown",
   "id": "f516fa10",
   "metadata": {},
   "source": [
    "### Train/Load Autoencoder"
   ]
  },
  {
   "cell_type": "code",
   "execution_count": null,
   "id": "b5f45a08",
   "metadata": {},
   "outputs": [],
   "source": [
    "print(\"Training models...\")\n",
    "best_permutation, loss_path, model_path, plot_path, report_path = permutations.run_permutations(\n",
    "    dota, _patch, train_df, val_df, test_df, 100, \"./tmp/model_perm\", \"./tmp/loss_perm\", \"./tmp/permutation_log\")"
   ]
  },
  {
   "cell_type": "code",
   "execution_count": null,
   "id": "c1dd2537",
   "metadata": {},
   "outputs": [],
   "source": [
    "print (\"Best permutation:\", best_permutation)\n",
    "print(\"Loading best model...\")\n",
    "model = Dota2Autoencoder.load_model(model_path)\n"
   ]
  },
  {
   "cell_type": "markdown",
   "id": "7c89a489",
   "metadata": {},
   "source": [
    "## Clustering"
   ]
  },
  {
   "cell_type": "markdown",
   "id": "ec29bb6c",
   "metadata": {},
   "source": [
    "### K-Means"
   ]
  },
  {
   "cell_type": "code",
   "execution_count": null,
   "id": "c7be6ca7",
   "metadata": {},
   "outputs": [],
   "source": [
    "autoencoder = Dota2Autoencoder.load_model(model_path)\n",
    "kmeans = Dota2Clustering(dota.autoencoder)\n",
    "kmeans.cluster(dataset, n_clusters=10)"
   ]
  }
 ],
 "metadata": {
  "kernelspec": {
   "display_name": ".venv",
   "language": "python",
   "name": "python3"
  },
  "language_info": {
   "codemirror_mode": {
    "name": "ipython",
    "version": 3
   },
   "file_extension": ".py",
   "mimetype": "text/x-python",
   "name": "python",
   "nbconvert_exporter": "python",
   "pygments_lexer": "ipython3",
   "version": "3.12.11"
  }
 },
 "nbformat": 4,
 "nbformat_minor": 5
}
