{
 "cells": [
  {
   "cell_type": "markdown",
   "id": "4a0a751d",
   "metadata": {},
   "source": [
    "# Dota 2 Autoencoder and clustering analyzer"
   ]
  },
  {
   "cell_type": "markdown",
   "id": "167857a2",
   "metadata": {},
   "source": [
    "# Autoencoder"
   ]
  },
  {
   "cell_type": "markdown",
   "id": "f516fa10",
   "metadata": {},
   "source": [
    "### Train/Load Autoencoder"
   ]
  },
  {
   "cell_type": "code",
   "execution_count": null,
   "id": "b5f45a08",
   "metadata": {},
   "outputs": [
    {
     "name": "stdout",
     "output_type": "stream",
     "text": [
      "==================================================\n",
      "Inicializando Dota2 Autoencoder...\n",
      "Carregando dataset...\n",
      "Tier: ['professional'], Duração: 30-120 minutos\n",
      "Patches:\n",
      "Patch 7.36 (56): 10844 partidas\n",
      "Training models...\n",
      "Available permutations: 288\n",
      "Permutations hash: 9990013b7bb6a5c100a6907ae6e6da00ddcc3de972495158b39f3df7440efc6e\n",
      "Permutation results already exist: ./tmp/9990013b7bb6a5c100a6907ae6e6da00ddcc3de972495158b39f3df7440efc6e/dota_autoencoder_permutations.csv\n",
      "Best permutation: 0_001_0_3_256__128__64__32_16_4_8 with loss 0.0001\n",
      "Test Accuracy: 1.0, Avg MSE: 6e-06, Stopped at: 99\n",
      "Best permutation: {'permutation': '0_001_0_3_256__128__64__32_16_4_8', 'loss': 0.0001, 'accuracy': 1.0, 'avg_mse': 6e-06, 'stopped': 99, 'model_path': './tmp/9990013b7bb6a5c100a6907ae6e6da00ddcc3de972495158b39f3df7440efc6e/dota_autoencoder_0_001_0_3_256__128__64__32_16_4_8.h5', 'loss_path': './tmp/9990013b7bb6a5c100a6907ae6e6da00ddcc3de972495158b39f3df7440efc6e/dota_autoencoder_loss_0_001_0_3_256__128__64__32_16_4_8.csv'}\n",
      "Loading best model...\n",
      "Modelo carregado de ./tmp/9990013b7bb6a5c100a6907ae6e6da00ddcc3de972495158b39f3df7440efc6e/dota_autoencoder_0_001_0_3_256__128__64__32_16_4_8.h5\n"
     ]
    }
   ],
   "source": [
    "from dota import Dota2\n",
    "from model import Dota2Autoencoder\n",
    "from permutations import run_permutations\n",
    "dota = Dota2([56], ['professional'], (30, 120))\n",
    "\n",
    "print(\"Training models...\")\n",
    "train_df, val_df, test_df = dota.prepare_data_splits(dota.dataset)\n",
    "best_permutation, loss_path, model_path, plot_path, report_path = run_permutations(\n",
    "    dota, 100, train_df, val_df, test_df, \"dota_autoencoder\", \"dota_autoencoder_loss\", \"dota_autoencoder_permutations\")\n",
    "print (\"Best permutation:\", best_permutation)\n",
    "print(\"Loading best model...\")\n",
    "model = Dota2Autoencoder.load_model(model_path)"
   ]
  }
 ],
 "metadata": {
  "kernelspec": {
   "display_name": ".venv",
   "language": "python",
   "name": "python3"
  },
  "language_info": {
   "codemirror_mode": {
    "name": "ipython",
    "version": 3
   },
   "file_extension": ".py",
   "mimetype": "text/x-python",
   "name": "python",
   "nbconvert_exporter": "python",
   "pygments_lexer": "ipython3",
   "version": "3.12.3"
  }
 },
 "nbformat": 4,
 "nbformat_minor": 5
}
