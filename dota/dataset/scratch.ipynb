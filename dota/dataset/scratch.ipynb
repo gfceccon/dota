{
 "cells": [
  {
   "cell_type": "code",
   "execution_count": 3,
   "id": "5018b02f",
   "metadata": {},
   "outputs": [
    {
     "name": "stdout",
     "output_type": "stream",
     "text": [
      "shape: (5, 3)\n",
      "┌────────────┬────────────┬──────────────────┐\n",
      "│ obs_placed ┆ sen_placed ┆ observers_placed │\n",
      "│ ---        ┆ ---        ┆ ---              │\n",
      "│ f64        ┆ f64        ┆ f64              │\n",
      "╞════════════╪════════════╪══════════════════╡\n",
      "│ 0.0        ┆ 0.0        ┆ 0.0              │\n",
      "│ 0.0        ┆ 0.0        ┆ 0.0              │\n",
      "│ 4.0        ┆ 2.0        ┆ 4.0              │\n",
      "│ 7.0        ┆ 11.0       ┆ 7.0              │\n",
      "│ 2.0        ┆ 0.0        ┆ 2.0              │\n",
      "└────────────┴────────────┴──────────────────┘\n"
     ]
    }
   ],
   "source": [
    "import polars as pl\n",
    "meta = pl.scan_csv(\"/home/seduq/.cache/kagglehub/datasets/bwandowando/dota-2-pro-league-matches-2023/versions/181/2024/players.csv\")\n",
    "\n",
    "print(meta.head(5).select(\"obs_placed\", \"sen_placed\", \"observers_placed\").collect())"
   ]
  }
 ],
 "metadata": {
  "kernelspec": {
   "display_name": "dota",
   "language": "python",
   "name": "python3"
  },
  "language_info": {
   "codemirror_mode": {
    "name": "ipython",
    "version": 3
   },
   "file_extension": ".py",
   "mimetype": "text/x-python",
   "name": "python",
   "nbconvert_exporter": "python",
   "pygments_lexer": "ipython3",
   "version": "3.12.3"
  }
 },
 "nbformat": 4,
 "nbformat_minor": 5
}
