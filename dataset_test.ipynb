{
 "cells": [
  {
   "cell_type": "code",
   "execution_count": null,
   "id": "6859385b",
   "metadata": {},
   "outputs": [
    {
     "data": {
      "text/html": [
       "<i>naive plan: (run <b>LazyFrame.explain(optimized=True)</b> to see the optimized plan)</i>\n",
       "    <p></p>\n",
       "    <div>Parquet SCAN [tmp/dota/dataset/2024/data.parquet] [id: 125278352363680]<p></p>PROJECT */79 COLUMNS</div>"
      ],
      "text/plain": [
       "<LazyFrame at 0x71F0CBAF8310>"
      ]
     },
     "execution_count": 1,
     "metadata": {},
     "output_type": "execute_result"
    }
   ],
   "source": [
    "import dota \n",
    "import polars as pl\n",
    "ds = dota.Dataset(year=2024, warning=True)\n",
    "data_path = ds.get()\n",
    "pl.scan_parquet(data_path)"
   ]
  }
 ],
 "metadata": {
  "kernelspec": {
   "display_name": "dota",
   "language": "python",
   "name": "python3"
  },
  "language_info": {
   "codemirror_mode": {
    "name": "ipython",
    "version": 3
   },
   "file_extension": ".py",
   "mimetype": "text/x-python",
   "name": "python",
   "nbconvert_exporter": "python",
   "pygments_lexer": "ipython3",
   "version": "3.11.12"
  }
 },
 "nbformat": 4,
 "nbformat_minor": 5
}
