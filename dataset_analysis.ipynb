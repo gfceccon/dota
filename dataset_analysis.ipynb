{
 "cells": [
  {
   "cell_type": "code",
   "execution_count": 1,
   "id": "396ce9b5",
   "metadata": {},
   "outputs": [
    {
     "name": "stdout",
     "output_type": "stream",
     "text": [
      "Current working directory: /home/seduq/Github/dota\n",
      "shape: (1, 28)\n",
      "┌──────┬──────┬──────────────┬─────────────┬───┬──────────────┬─────────┬──────────────┬───────────┐\n",
      "│ id   ┆ name ┆ primary_attr ┆ attack_type ┆ … ┆ primary_attr ┆ hero_id ┆ roles_vector ┆ hero_name │\n",
      "│ ---  ┆ ---  ┆ ---          ┆ ---         ┆   ┆ ibute        ┆ ---     ┆ ---          ┆ ---       │\n",
      "│ i64  ┆ str  ┆ str          ┆ u8          ┆   ┆ ---          ┆ i32     ┆ list[i32]    ┆ str       │\n",
      "│      ┆      ┆              ┆             ┆   ┆ i32          ┆         ┆              ┆           │\n",
      "╞══════╪══════╪══════════════╪═════════════╪═══╪══════════════╪═════════╪══════════════╪═══════════╡\n",
      "│ null ┆ null ┆ null         ┆ null        ┆ … ┆ null         ┆ null    ┆ null         ┆ null      │\n",
      "└──────┴──────┴──────────────┴─────────────┴───┴──────────────┴─────────┴──────────────┴───────────┘\n"
     ]
    }
   ],
   "source": [
    "import numpy as np\n",
    "from dota import Dota2\n",
    "from dota import Dataset\n",
    "import polars as pl\n",
    "from dota import plotter, plotter_3col\n",
    "import os\n",
    "print(\"Current working directory:\", os.getcwd())\n",
    "df, heroes, patches, metadata, leagues  = Dataset.load(os.getcwd(), 2024)\n",
    "print(heroes.collect())"
   ]
  }
 ],
 "metadata": {
  "kernelspec": {
   "display_name": ".venv",
   "language": "python",
   "name": "python3"
  },
  "language_info": {
   "codemirror_mode": {
    "name": "ipython",
    "version": 3
   },
   "file_extension": ".py",
   "mimetype": "text/x-python",
   "name": "python",
   "nbconvert_exporter": "python",
   "pygments_lexer": "ipython3",
   "version": "3.12.3"
  }
 },
 "nbformat": 4,
 "nbformat_minor": 5
}
